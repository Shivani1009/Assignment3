{
 "cells": [
  {
   "cell_type": "markdown",
   "id": "3e3b1e77-8ebc-454d-8310-3c3b37f905ae",
   "metadata": {},
   "source": [
    "Q1. Which keyword is used to create a function? Create a function to return a list of odd numbers in the\n",
    "range of 1 to 25."
   ]
  },
  {
   "cell_type": "markdown",
   "id": "47fefcbe-87dd-45a4-8934-01fd50f95bbf",
   "metadata": {},
   "source": [
    "for creating a function 'def' keyword is used."
   ]
  },
  {
   "cell_type": "code",
   "execution_count": 1,
   "id": "b5cc8b7f-08a8-4dd9-92d9-fab2ea902c22",
   "metadata": {},
   "outputs": [],
   "source": [
    "def odd_numbers(n):\n",
    "    return [x for x in range(n+1) if x%2!=0]"
   ]
  },
  {
   "cell_type": "code",
   "execution_count": 2,
   "id": "6e537edd-ec45-4ac4-81cb-8f204e5e41d1",
   "metadata": {},
   "outputs": [
    {
     "data": {
      "text/plain": [
       "[1, 3, 5, 7, 9, 11, 13, 15, 17, 19, 21, 23, 25]"
      ]
     },
     "execution_count": 2,
     "metadata": {},
     "output_type": "execute_result"
    }
   ],
   "source": [
    "odd_numbers(25)"
   ]
  },
  {
   "cell_type": "markdown",
   "id": "3d921499-b76e-4415-935f-890a154f9eba",
   "metadata": {},
   "source": [
    "Q2. Why *args and **kwargs is used in some functions? Create a function each for *args and **kwargs\n",
    "to demonstrate their use."
   ]
  },
  {
   "cell_type": "markdown",
   "id": "4bb28448-f38a-4de4-a3b2-a9a82ab2ee75",
   "metadata": {},
   "source": [
    "*args in function definitions in Python is used to pass a variable number of arguments to a function. It is used to pass a non-keyworded, variable-length argument list. "
   ]
  },
  {
   "cell_type": "markdown",
   "id": "36887d42-5c56-49da-a610-0fecac6272e6",
   "metadata": {},
   "source": [
    "**kwargs in function definitions in Python is used to pass a keyworded, variable-length argument list. "
   ]
  },
  {
   "cell_type": "code",
   "execution_count": 6,
   "id": "a86e2ff0-d32c-495f-add0-140cf03a0936",
   "metadata": {},
   "outputs": [],
   "source": [
    "def args(*args,b):\n",
    "    return args,b"
   ]
  },
  {
   "cell_type": "code",
   "execution_count": 7,
   "id": "dcbe8d78-ea88-43b8-868d-047429be4094",
   "metadata": {},
   "outputs": [
    {
     "data": {
      "text/plain": [
       "((2, 4, 5, 6, 'hello'), 35)"
      ]
     },
     "execution_count": 7,
     "metadata": {},
     "output_type": "execute_result"
    }
   ],
   "source": [
    "args(2,4,5,6,'hello',b=35)"
   ]
  },
  {
   "cell_type": "code",
   "execution_count": 8,
   "id": "5b548ec6-b2a7-4608-803d-016654a015e1",
   "metadata": {},
   "outputs": [],
   "source": [
    "def kwargs(**kwargs):\n",
    "    return kwargs"
   ]
  },
  {
   "cell_type": "code",
   "execution_count": 9,
   "id": "f02f3f96-57da-43ac-8c02-2b7f919fb3a4",
   "metadata": {},
   "outputs": [
    {
     "data": {
      "text/plain": [
       "{'a': 2, 'b': 3, 'c': 'hello'}"
      ]
     },
     "execution_count": 9,
     "metadata": {},
     "output_type": "execute_result"
    }
   ],
   "source": [
    "kwargs(a=2,b=3,c='hello')"
   ]
  },
  {
   "cell_type": "markdown",
   "id": "0abe8c60-91e9-4d4b-99f5-d7bc2d32d86f",
   "metadata": {},
   "source": [
    "Q3. What is an iterator in python? Name the method used to initialise the iterator object and the method\n",
    "used for iteration. Use these methods to print the first five elements of the given list [2, 4, 6, 8, 10, 12, 14,\n",
    "16, 18, 20]."
   ]
  },
  {
   "cell_type": "markdown",
   "id": "a5ed4b75-e171-4fef-a46e-30f271d5a512",
   "metadata": {},
   "source": [
    "An iterator in Python is an object that is used to iterate over iterable objects like lists, tuples, dicts, and sets.\n",
    "The Python iterators object is initialized using the iter() method. It uses the next() method for iteration. __next__(): The next method returns the next value for the iterable."
   ]
  },
  {
   "cell_type": "code",
   "execution_count": 1,
   "id": "4eca9f9a-71ba-4dbf-b008-7ab4f418264e",
   "metadata": {},
   "outputs": [],
   "source": [
    "k=[2, 4, 6, 8, 10, 12, 14,16, 18, 20]"
   ]
  },
  {
   "cell_type": "code",
   "execution_count": 2,
   "id": "d65fcc38-40f2-4555-9efa-f86dc518e5db",
   "metadata": {},
   "outputs": [
    {
     "name": "stdout",
     "output_type": "stream",
     "text": [
      "2\n",
      "4\n",
      "6\n",
      "8\n",
      "10\n"
     ]
    }
   ],
   "source": [
    "count=0\n",
    "for i in k:\n",
    "    if count<5:\n",
    "        print(i)\n",
    "        count+=1"
   ]
  },
  {
   "cell_type": "markdown",
   "id": "a9eac179-38f7-45e4-9585-eb567b962159",
   "metadata": {},
   "source": [
    "Q4. What is a generator function in python? Why yield keyword is used? Give an example of a generator\n",
    "function."
   ]
  },
  {
   "cell_type": "markdown",
   "id": "cf703f7d-d806-43b6-80de-e7b2676f7b51",
   "metadata": {},
   "source": [
    "In Python, a generator is a function that returns an iterator that produces a sequence of values when iterated over. Generators are useful when we want to produce a large sequence of values, but we don't want to store all of them in memory at once.\n",
    " The yield keyword pauses generator function execution and the value of the expression following the yield keyword is returned to the generator's caller."
   ]
  },
  {
   "cell_type": "code",
   "execution_count": 3,
   "id": "9b02603a-609f-4de8-a69e-768cf28788d8",
   "metadata": {},
   "outputs": [],
   "source": [
    "def count_test(n):\n",
    "    count=1\n",
    "    while count<=n:\n",
    "        yield count\n",
    "        count=count+1"
   ]
  },
  {
   "cell_type": "code",
   "execution_count": 4,
   "id": "b0ff71da-21ee-4b56-88cd-93aeb142ab0b",
   "metadata": {},
   "outputs": [],
   "source": [
    "c=count_test(6)"
   ]
  },
  {
   "cell_type": "code",
   "execution_count": 5,
   "id": "35352ee8-6170-47fd-ab59-bcc3db954c73",
   "metadata": {},
   "outputs": [
    {
     "name": "stdout",
     "output_type": "stream",
     "text": [
      "1\n",
      "2\n",
      "3\n",
      "4\n",
      "5\n",
      "6\n"
     ]
    }
   ],
   "source": [
    "for i in c:\n",
    "    print(i)"
   ]
  },
  {
   "cell_type": "markdown",
   "id": "fff48be4-2fda-4f8e-80b4-9df6de86b173",
   "metadata": {},
   "source": [
    "Q5. Create a generator function for prime numbers less than 1000. Use the next() method to print the\n",
    "first 20 prime numbers."
   ]
  },
  {
   "cell_type": "code",
   "execution_count": 6,
   "id": "3a8d448e-f552-4baa-ac37-d1616d578919",
   "metadata": {},
   "outputs": [
    {
     "name": "stdout",
     "output_type": "stream",
     "text": [
      "2\n",
      "3\n",
      "5\n",
      "7\n",
      "11\n",
      "13\n",
      "17\n",
      "19\n",
      "23\n",
      "29\n",
      "31\n",
      "37\n",
      "41\n",
      "43\n",
      "47\n",
      "53\n",
      "59\n",
      "61\n",
      "67\n",
      "71\n"
     ]
    }
   ],
   "source": [
    "#a generator function for prime numbers less than 1000. Use the next() method to print the first 20 prime numbers.\n",
    "def primes():\n",
    "    \"\"\"Create a generator function for prime numbers less than 1000.\"\"\"\n",
    "    yield 2\n",
    "    primes_list = [2]\n",
    "    for i in range(3, 1000):\n",
    "        is_prime = True\n",
    "        for prime in primes_list:\n",
    "            if i % prime == 0:\n",
    "                is_prime = False\n",
    "                break\n",
    "        if is_prime:\n",
    "            primes_list.append(i)\n",
    "            yield i\n",
    "prime_gen = primes()\n",
    "# the next() method to print the first 20 prime numbers.\n",
    "for i in range(20):\n",
    "    print(next(prime_gen))\n"
   ]
  },
  {
   "cell_type": "markdown",
   "id": "df7000ac-7830-448a-883b-505aa5b231f6",
   "metadata": {},
   "source": [
    "Q6. Write a python program to print the first 10 Fibonacci numbers using a while loop."
   ]
  },
  {
   "cell_type": "code",
   "execution_count": 8,
   "id": "cfb81366-1e83-43b2-ba34-8d195a3303ba",
   "metadata": {},
   "outputs": [
    {
     "name": "stdout",
     "output_type": "stream",
     "text": [
      "0\n",
      "1\n",
      "1\n",
      "2\n",
      "3\n",
      "5\n",
      "8\n",
      "13\n",
      "21\n",
      "34\n"
     ]
    }
   ],
   "source": [
    "def test_fib(n):\n",
    "    a,b=0,1\n",
    "    for i in range(n):\n",
    "        yield a\n",
    "        a,b=b,a+b\n",
    "for i in test_fib(10):\n",
    "    print(i)"
   ]
  },
  {
   "cell_type": "markdown",
   "id": "d1b6b4c8-8bf9-48c4-a960-6433c33b08ee",
   "metadata": {},
   "source": [
    "Q7. Write a List Comprehension to iterate through the given string: ‘pwskills’.Expected output: ['p', 'w', 's', 'k', 'i', 'l', 'l', 's']"
   ]
  },
  {
   "cell_type": "code",
   "execution_count": 9,
   "id": "9679b16b-1ba3-401c-8a87-19f308660598",
   "metadata": {},
   "outputs": [],
   "source": [
    "p='pwskills'"
   ]
  },
  {
   "cell_type": "code",
   "execution_count": 10,
   "id": "34b18a76-8f9b-4085-89b5-560d98048dac",
   "metadata": {},
   "outputs": [
    {
     "data": {
      "text/plain": [
       "['p', 'w', 's', 'k', 'i', 'l', 'l', 's']"
      ]
     },
     "execution_count": 10,
     "metadata": {},
     "output_type": "execute_result"
    }
   ],
   "source": [
    "list(map(lambda p:p,p))"
   ]
  },
  {
   "cell_type": "markdown",
   "id": "61843c85-da9d-47f7-aab3-442dcbff449e",
   "metadata": {},
   "source": [
    "Q8. Write a python program to check whether a given number is Palindrome or not using a while loop."
   ]
  },
  {
   "cell_type": "code",
   "execution_count": 11,
   "id": "bd47d837-dd6e-411f-bc0c-97d98886b146",
   "metadata": {},
   "outputs": [
    {
     "name": "stdin",
     "output_type": "stream",
     "text": [
      "Please give a number :  26\n"
     ]
    },
    {
     "name": "stdout",
     "output_type": "stream",
     "text": [
      "Given number is a not palindrome\n"
     ]
    }
   ],
   "source": [
    "n = int(input(\"Please give a number : \"))\n",
    "def reverse(num):\n",
    "    if num<10:\n",
    "      return num \n",
    "    else:\n",
    "      return int(str(num%10) + str(reverse(num//10)))\n",
    "def isPalindrome(num):\n",
    "    if num == reverse(num):\n",
    "        return 1\n",
    "    return 0\n",
    "if isPalindrome(n) == 1:\n",
    "    print(\"Given number is a palindrome\")\n",
    "else:\n",
    "    print(\"Given number is a not palindrome\") "
   ]
  },
  {
   "cell_type": "markdown",
   "id": "b1b09f3b-4009-4c9d-acd4-fc76bb2f6a17",
   "metadata": {},
   "source": [
    "Q9. Write a code to print odd numbers from 1 to 100 using list comprehension."
   ]
  },
  {
   "cell_type": "code",
   "execution_count": null,
   "id": "faf48607-e16b-4654-9da0-9dde4aabef18",
   "metadata": {},
   "outputs": [],
   "source": []
  }
 ],
 "metadata": {
  "kernelspec": {
   "display_name": "Python 3 (ipykernel)",
   "language": "python",
   "name": "python3"
  },
  "language_info": {
   "codemirror_mode": {
    "name": "ipython",
    "version": 3
   },
   "file_extension": ".py",
   "mimetype": "text/x-python",
   "name": "python",
   "nbconvert_exporter": "python",
   "pygments_lexer": "ipython3",
   "version": "3.10.8"
  }
 },
 "nbformat": 4,
 "nbformat_minor": 5
}
